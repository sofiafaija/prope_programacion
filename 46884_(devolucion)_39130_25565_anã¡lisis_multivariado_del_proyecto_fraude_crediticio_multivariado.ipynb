{
  "cells": [
    {
      "cell_type": "markdown",
      "metadata": {
        "id": "view-in-github",
        "colab_type": "text"
      },
      "source": [
        "<a href=\"https://colab.research.google.com/github/sofiafaija/prope_programacion/blob/main/46884_(devolucion)_39130_25565_an%C3%A3%C2%A1lisis_multivariado_del_proyecto_fraude_crediticio_multivariado.ipynb\" target=\"_parent\"><img src=\"https://colab.research.google.com/assets/colab-badge.svg\" alt=\"Open In Colab\"/></a>"
      ]
    },
    {
      "cell_type": "markdown",
      "metadata": {
        "id": "wObfih_lnwvP"
      },
      "source": [
        "### Consigna\n",
        "\n",
        "## Realizar un pequeño análisis Multivariado de datos, teniendo en cuenta las características de las observaciones. Generar al menos 3 gráficos asociados"
      ]
    },
    {
      "cell_type": "markdown",
      "metadata": {
        "id": "1Gf1X_zgnwvU"
      },
      "source": [
        "Que es lo que se espera de acuerdo a Jaime\n",
        "Matriz de graficas de todas contra todas con su respectivo color, con un cambio de color, nosotros decidimos la variable categorica\n",
        "o si quieren hacer varios \n",
        "la matriz de gráficas\n",
        "la matriz de correlaciones\n",
        "el mapa de color, la diagonal inferior, hacer el jointplot\n",
        "\n",
        "Resumen:\n",
        "-matriz de figuras el pairplot con una variable categórica cambiando el color\n",
        "-matriz de correlaciones pero con la diagonal inferior\n",
        "y el joinplot para una serie de variables que consideren relevantes con los respectivos insite. Que es lo que parecia y que quieren hacer con esas variables. al final tienen una hipotesis la idea es verificar si se va a cumplir y si no ver que es lo que vamos a hacer\n",
        "\n"
      ]
    },
    {
      "cell_type": "code",
      "execution_count": null,
      "metadata": {
        "id": "DTBUccKenwvV"
      },
      "outputs": [],
      "source": [
        "#!pip install plotly\n",
        "import os \n",
        "import plotly.express as px\n",
        "import pandas as pd\n",
        "import seaborn as sns\n",
        "import numpy as np\n",
        "import matplotlib.pyplot as plt"
      ]
    },
    {
      "cell_type": "code",
      "execution_count": null,
      "metadata": {
        "id": "kARbh4W7nwvX",
        "outputId": "4f082aab-bbbd-45bd-aeda-fad7fe988a4f"
      },
      "outputs": [
        {
          "data": {
            "text/plain": [
              "'/home/matias.souto/Dev/TutoriasDSCoder/DataScienceTutorias_01_2022/Correcciones/Grupos/Grupo 8 -Faija - T Vitola - Sanchez - Merino'"
            ]
          },
          "execution_count": 2,
          "metadata": {},
          "output_type": "execute_result"
        }
      ],
      "source": [
        "path= os.getcwd()\n",
        "path"
      ]
    },
    {
      "cell_type": "code",
      "execution_count": null,
      "metadata": {
        "id": "WeP6mXgUnwvb",
        "outputId": "0f4d4f1a-8d98-4487-cb31-74fe5a30458e"
      },
      "outputs": [
        {
          "data": {
            "text/html": [
              "<div>\n",
              "<style scoped>\n",
              "    .dataframe tbody tr th:only-of-type {\n",
              "        vertical-align: middle;\n",
              "    }\n",
              "\n",
              "    .dataframe tbody tr th {\n",
              "        vertical-align: top;\n",
              "    }\n",
              "\n",
              "    .dataframe thead th {\n",
              "        text-align: right;\n",
              "    }\n",
              "</style>\n",
              "<table border=\"1\" class=\"dataframe\">\n",
              "  <thead>\n",
              "    <tr style=\"text-align: right;\">\n",
              "      <th></th>\n",
              "      <th>step</th>\n",
              "      <th>type</th>\n",
              "      <th>amount</th>\n",
              "      <th>nameOrig</th>\n",
              "      <th>oldbalanceOrg</th>\n",
              "      <th>newbalanceOrig</th>\n",
              "      <th>nameDest</th>\n",
              "      <th>oldbalanceDest</th>\n",
              "      <th>newbalanceDest</th>\n",
              "      <th>isFraud</th>\n",
              "      <th>isFlaggedFraud</th>\n",
              "    </tr>\n",
              "  </thead>\n",
              "  <tbody>\n",
              "    <tr>\n",
              "      <th>0</th>\n",
              "      <td>1</td>\n",
              "      <td>PAYMENT</td>\n",
              "      <td>9839.64</td>\n",
              "      <td>C1231006815</td>\n",
              "      <td>170136.0</td>\n",
              "      <td>160296.36</td>\n",
              "      <td>M1979787155</td>\n",
              "      <td>0.0</td>\n",
              "      <td>0.0</td>\n",
              "      <td>0</td>\n",
              "      <td>0</td>\n",
              "    </tr>\n",
              "    <tr>\n",
              "      <th>1</th>\n",
              "      <td>1</td>\n",
              "      <td>PAYMENT</td>\n",
              "      <td>1864.28</td>\n",
              "      <td>C1666544295</td>\n",
              "      <td>21249.0</td>\n",
              "      <td>19384.72</td>\n",
              "      <td>M2044282225</td>\n",
              "      <td>0.0</td>\n",
              "      <td>0.0</td>\n",
              "      <td>0</td>\n",
              "      <td>0</td>\n",
              "    </tr>\n",
              "    <tr>\n",
              "      <th>2</th>\n",
              "      <td>1</td>\n",
              "      <td>TRANSFER</td>\n",
              "      <td>181.00</td>\n",
              "      <td>C1305486145</td>\n",
              "      <td>181.0</td>\n",
              "      <td>0.00</td>\n",
              "      <td>C553264065</td>\n",
              "      <td>0.0</td>\n",
              "      <td>0.0</td>\n",
              "      <td>1</td>\n",
              "      <td>0</td>\n",
              "    </tr>\n",
              "    <tr>\n",
              "      <th>3</th>\n",
              "      <td>1</td>\n",
              "      <td>CASH_OUT</td>\n",
              "      <td>181.00</td>\n",
              "      <td>C840083671</td>\n",
              "      <td>181.0</td>\n",
              "      <td>0.00</td>\n",
              "      <td>C38997010</td>\n",
              "      <td>21182.0</td>\n",
              "      <td>0.0</td>\n",
              "      <td>1</td>\n",
              "      <td>0</td>\n",
              "    </tr>\n",
              "    <tr>\n",
              "      <th>4</th>\n",
              "      <td>1</td>\n",
              "      <td>PAYMENT</td>\n",
              "      <td>11668.14</td>\n",
              "      <td>C2048537720</td>\n",
              "      <td>41554.0</td>\n",
              "      <td>29885.86</td>\n",
              "      <td>M1230701703</td>\n",
              "      <td>0.0</td>\n",
              "      <td>0.0</td>\n",
              "      <td>0</td>\n",
              "      <td>0</td>\n",
              "    </tr>\n",
              "  </tbody>\n",
              "</table>\n",
              "</div>"
            ],
            "text/plain": [
              "   step      type    amount     nameOrig  oldbalanceOrg  newbalanceOrig  \\\n",
              "0     1   PAYMENT   9839.64  C1231006815       170136.0       160296.36   \n",
              "1     1   PAYMENT   1864.28  C1666544295        21249.0        19384.72   \n",
              "2     1  TRANSFER    181.00  C1305486145          181.0            0.00   \n",
              "3     1  CASH_OUT    181.00   C840083671          181.0            0.00   \n",
              "4     1   PAYMENT  11668.14  C2048537720        41554.0        29885.86   \n",
              "\n",
              "      nameDest  oldbalanceDest  newbalanceDest  isFraud  isFlaggedFraud  \n",
              "0  M1979787155             0.0             0.0        0               0  \n",
              "1  M2044282225             0.0             0.0        0               0  \n",
              "2   C553264065             0.0             0.0        1               0  \n",
              "3    C38997010         21182.0             0.0        1               0  \n",
              "4  M1230701703             0.0             0.0        0               0  "
            ]
          },
          "execution_count": 3,
          "metadata": {},
          "output_type": "execute_result"
        }
      ],
      "source": [
        "ds_fraude = pd.read_csv('./data_set_fraude.csv', sep=\",\")\n",
        "ds_fraude.head()"
      ]
    },
    {
      "cell_type": "code",
      "execution_count": null,
      "metadata": {
        "id": "T5Cr4jY_nwvd"
      },
      "outputs": [],
      "source": [
        "#ds_fraude=pd.read_csv(r'C:\\Users\\Sofia\\data_set_fraude.csv', sep=\",\")\n",
        "#ds_fraude.head()"
      ]
    },
    {
      "cell_type": "code",
      "execution_count": null,
      "metadata": {
        "id": "Duuv5j13nwvf",
        "outputId": "5959684b-dc9c-4f1a-9686-ec35190fe91f"
      },
      "outputs": [
        {
          "data": {
            "text/html": [
              "<style  type=\"text/css\" >\n",
              "#T_afe3a_row0_col0,#T_afe3a_row1_col1,#T_afe3a_row2_col2,#T_afe3a_row2_col3,#T_afe3a_row3_col2,#T_afe3a_row3_col3,#T_afe3a_row4_col4,#T_afe3a_row5_col5,#T_afe3a_row6_col6,#T_afe3a_row7_col7{\n",
              "            background-color:  #b40426;\n",
              "            color:  #f1f1f1;\n",
              "        }#T_afe3a_row0_col1{\n",
              "            background-color:  #4358cb;\n",
              "            color:  #f1f1f1;\n",
              "        }#T_afe3a_row0_col2,#T_afe3a_row0_col3,#T_afe3a_row0_col7,#T_afe3a_row1_col3,#T_afe3a_row2_col0,#T_afe3a_row3_col0,#T_afe3a_row3_col1,#T_afe3a_row3_col6,#T_afe3a_row4_col6,#T_afe3a_row4_col7,#T_afe3a_row5_col7,#T_afe3a_row6_col3,#T_afe3a_row6_col4,#T_afe3a_row6_col5,#T_afe3a_row7_col5{\n",
              "            background-color:  #3b4cc0;\n",
              "            color:  #f1f1f1;\n",
              "        }#T_afe3a_row0_col4,#T_afe3a_row1_col0{\n",
              "            background-color:  #445acc;\n",
              "            color:  #f1f1f1;\n",
              "        }#T_afe3a_row0_col5{\n",
              "            background-color:  #4257c9;\n",
              "            color:  #f1f1f1;\n",
              "        }#T_afe3a_row0_col6,#T_afe3a_row2_col5,#T_afe3a_row3_col5,#T_afe3a_row6_col0{\n",
              "            background-color:  #465ecf;\n",
              "            color:  #f1f1f1;\n",
              "        }#T_afe3a_row1_col2,#T_afe3a_row2_col1,#T_afe3a_row2_col7,#T_afe3a_row3_col7,#T_afe3a_row7_col4{\n",
              "            background-color:  #3c4ec2;\n",
              "            color:  #f1f1f1;\n",
              "        }#T_afe3a_row1_col4,#T_afe3a_row4_col1{\n",
              "            background-color:  #9ebeff;\n",
              "            color:  #000000;\n",
              "        }#T_afe3a_row1_col5{\n",
              "            background-color:  #d2dbe8;\n",
              "            color:  #000000;\n",
              "        }#T_afe3a_row1_col6,#T_afe3a_row6_col1{\n",
              "            background-color:  #5470de;\n",
              "            color:  #000000;\n",
              "        }#T_afe3a_row1_col7,#T_afe3a_row7_col0,#T_afe3a_row7_col2,#T_afe3a_row7_col3{\n",
              "            background-color:  #3e51c5;\n",
              "            color:  #f1f1f1;\n",
              "        }#T_afe3a_row2_col4,#T_afe3a_row3_col4{\n",
              "            background-color:  #506bda;\n",
              "            color:  #000000;\n",
              "        }#T_afe3a_row2_col6{\n",
              "            background-color:  #3f53c6;\n",
              "            color:  #f1f1f1;\n",
              "        }#T_afe3a_row4_col0,#T_afe3a_row5_col0{\n",
              "            background-color:  #455cce;\n",
              "            color:  #f1f1f1;\n",
              "        }#T_afe3a_row4_col2,#T_afe3a_row4_col3{\n",
              "            background-color:  #516ddb;\n",
              "            color:  #000000;\n",
              "        }#T_afe3a_row4_col5,#T_afe3a_row5_col4{\n",
              "            background-color:  #bb1b2c;\n",
              "            color:  #f1f1f1;\n",
              "        }#T_afe3a_row5_col1{\n",
              "            background-color:  #d3dbe7;\n",
              "            color:  #000000;\n",
              "        }#T_afe3a_row5_col2,#T_afe3a_row5_col3,#T_afe3a_row7_col6{\n",
              "            background-color:  #4a63d3;\n",
              "            color:  #f1f1f1;\n",
              "        }#T_afe3a_row5_col6{\n",
              "            background-color:  #3d50c3;\n",
              "            color:  #f1f1f1;\n",
              "        }#T_afe3a_row6_col2,#T_afe3a_row7_col1{\n",
              "            background-color:  #4055c8;\n",
              "            color:  #f1f1f1;\n",
              "        }#T_afe3a_row6_col7{\n",
              "            background-color:  #485fd1;\n",
              "            color:  #f1f1f1;\n",
              "        }</style><table id=\"T_afe3a_\" ><thead>    <tr>        <th class=\"blank level0\" ></th>        <th class=\"col_heading level0 col0\" >step</th>        <th class=\"col_heading level0 col1\" >amount</th>        <th class=\"col_heading level0 col2\" >oldbalanceOrg</th>        <th class=\"col_heading level0 col3\" >newbalanceOrig</th>        <th class=\"col_heading level0 col4\" >oldbalanceDest</th>        <th class=\"col_heading level0 col5\" >newbalanceDest</th>        <th class=\"col_heading level0 col6\" >isFraud</th>        <th class=\"col_heading level0 col7\" >isFlaggedFraud</th>    </tr></thead><tbody>\n",
              "                <tr>\n",
              "                        <th id=\"T_afe3a_level0_row0\" class=\"row_heading level0 row0\" >step</th>\n",
              "                        <td id=\"T_afe3a_row0_col0\" class=\"data row0 col0\" >1.000000</td>\n",
              "                        <td id=\"T_afe3a_row0_col1\" class=\"data row0 col1\" >0.022373</td>\n",
              "                        <td id=\"T_afe3a_row0_col2\" class=\"data row0 col2\" >-0.010058</td>\n",
              "                        <td id=\"T_afe3a_row0_col3\" class=\"data row0 col3\" >-0.010299</td>\n",
              "                        <td id=\"T_afe3a_row0_col4\" class=\"data row0 col4\" >0.027665</td>\n",
              "                        <td id=\"T_afe3a_row0_col5\" class=\"data row0 col5\" >0.025888</td>\n",
              "                        <td id=\"T_afe3a_row0_col6\" class=\"data row0 col6\" >0.031578</td>\n",
              "                        <td id=\"T_afe3a_row0_col7\" class=\"data row0 col7\" >0.003277</td>\n",
              "            </tr>\n",
              "            <tr>\n",
              "                        <th id=\"T_afe3a_level0_row1\" class=\"row_heading level0 row1\" >amount</th>\n",
              "                        <td id=\"T_afe3a_row1_col0\" class=\"data row1 col0\" >0.022373</td>\n",
              "                        <td id=\"T_afe3a_row1_col1\" class=\"data row1 col1\" >1.000000</td>\n",
              "                        <td id=\"T_afe3a_row1_col2\" class=\"data row1 col2\" >-0.002762</td>\n",
              "                        <td id=\"T_afe3a_row1_col3\" class=\"data row1 col3\" >-0.007861</td>\n",
              "                        <td id=\"T_afe3a_row1_col4\" class=\"data row1 col4\" >0.294137</td>\n",
              "                        <td id=\"T_afe3a_row1_col5\" class=\"data row1 col5\" >0.459304</td>\n",
              "                        <td id=\"T_afe3a_row1_col6\" class=\"data row1 col6\" >0.076688</td>\n",
              "                        <td id=\"T_afe3a_row1_col7\" class=\"data row1 col7\" >0.012295</td>\n",
              "            </tr>\n",
              "            <tr>\n",
              "                        <th id=\"T_afe3a_level0_row2\" class=\"row_heading level0 row2\" >oldbalanceOrg</th>\n",
              "                        <td id=\"T_afe3a_row2_col0\" class=\"data row2 col0\" >-0.010058</td>\n",
              "                        <td id=\"T_afe3a_row2_col1\" class=\"data row2 col1\" >-0.002762</td>\n",
              "                        <td id=\"T_afe3a_row2_col2\" class=\"data row2 col2\" >1.000000</td>\n",
              "                        <td id=\"T_afe3a_row2_col3\" class=\"data row2 col3\" >0.998803</td>\n",
              "                        <td id=\"T_afe3a_row2_col4\" class=\"data row2 col4\" >0.066243</td>\n",
              "                        <td id=\"T_afe3a_row2_col5\" class=\"data row2 col5\" >0.042029</td>\n",
              "                        <td id=\"T_afe3a_row2_col6\" class=\"data row2 col6\" >0.010154</td>\n",
              "                        <td id=\"T_afe3a_row2_col7\" class=\"data row2 col7\" >0.003835</td>\n",
              "            </tr>\n",
              "            <tr>\n",
              "                        <th id=\"T_afe3a_level0_row3\" class=\"row_heading level0 row3\" >newbalanceOrig</th>\n",
              "                        <td id=\"T_afe3a_row3_col0\" class=\"data row3 col0\" >-0.010299</td>\n",
              "                        <td id=\"T_afe3a_row3_col1\" class=\"data row3 col1\" >-0.007861</td>\n",
              "                        <td id=\"T_afe3a_row3_col2\" class=\"data row3 col2\" >0.998803</td>\n",
              "                        <td id=\"T_afe3a_row3_col3\" class=\"data row3 col3\" >1.000000</td>\n",
              "                        <td id=\"T_afe3a_row3_col4\" class=\"data row3 col4\" >0.067812</td>\n",
              "                        <td id=\"T_afe3a_row3_col5\" class=\"data row3 col5\" >0.041837</td>\n",
              "                        <td id=\"T_afe3a_row3_col6\" class=\"data row3 col6\" >-0.008148</td>\n",
              "                        <td id=\"T_afe3a_row3_col7\" class=\"data row3 col7\" >0.003776</td>\n",
              "            </tr>\n",
              "            <tr>\n",
              "                        <th id=\"T_afe3a_level0_row4\" class=\"row_heading level0 row4\" >oldbalanceDest</th>\n",
              "                        <td id=\"T_afe3a_row4_col0\" class=\"data row4 col0\" >0.027665</td>\n",
              "                        <td id=\"T_afe3a_row4_col1\" class=\"data row4 col1\" >0.294137</td>\n",
              "                        <td id=\"T_afe3a_row4_col2\" class=\"data row4 col2\" >0.066243</td>\n",
              "                        <td id=\"T_afe3a_row4_col3\" class=\"data row4 col3\" >0.067812</td>\n",
              "                        <td id=\"T_afe3a_row4_col4\" class=\"data row4 col4\" >1.000000</td>\n",
              "                        <td id=\"T_afe3a_row4_col5\" class=\"data row4 col5\" >0.976569</td>\n",
              "                        <td id=\"T_afe3a_row4_col6\" class=\"data row4 col6\" >-0.005885</td>\n",
              "                        <td id=\"T_afe3a_row4_col7\" class=\"data row4 col7\" >-0.000513</td>\n",
              "            </tr>\n",
              "            <tr>\n",
              "                        <th id=\"T_afe3a_level0_row5\" class=\"row_heading level0 row5\" >newbalanceDest</th>\n",
              "                        <td id=\"T_afe3a_row5_col0\" class=\"data row5 col0\" >0.025888</td>\n",
              "                        <td id=\"T_afe3a_row5_col1\" class=\"data row5 col1\" >0.459304</td>\n",
              "                        <td id=\"T_afe3a_row5_col2\" class=\"data row5 col2\" >0.042029</td>\n",
              "                        <td id=\"T_afe3a_row5_col3\" class=\"data row5 col3\" >0.041837</td>\n",
              "                        <td id=\"T_afe3a_row5_col4\" class=\"data row5 col4\" >0.976569</td>\n",
              "                        <td id=\"T_afe3a_row5_col5\" class=\"data row5 col5\" >1.000000</td>\n",
              "                        <td id=\"T_afe3a_row5_col6\" class=\"data row5 col6\" >0.000535</td>\n",
              "                        <td id=\"T_afe3a_row5_col7\" class=\"data row5 col7\" >-0.000529</td>\n",
              "            </tr>\n",
              "            <tr>\n",
              "                        <th id=\"T_afe3a_level0_row6\" class=\"row_heading level0 row6\" >isFraud</th>\n",
              "                        <td id=\"T_afe3a_row6_col0\" class=\"data row6 col0\" >0.031578</td>\n",
              "                        <td id=\"T_afe3a_row6_col1\" class=\"data row6 col1\" >0.076688</td>\n",
              "                        <td id=\"T_afe3a_row6_col2\" class=\"data row6 col2\" >0.010154</td>\n",
              "                        <td id=\"T_afe3a_row6_col3\" class=\"data row6 col3\" >-0.008148</td>\n",
              "                        <td id=\"T_afe3a_row6_col4\" class=\"data row6 col4\" >-0.005885</td>\n",
              "                        <td id=\"T_afe3a_row6_col5\" class=\"data row6 col5\" >0.000535</td>\n",
              "                        <td id=\"T_afe3a_row6_col6\" class=\"data row6 col6\" >1.000000</td>\n",
              "                        <td id=\"T_afe3a_row6_col7\" class=\"data row6 col7\" >0.044109</td>\n",
              "            </tr>\n",
              "            <tr>\n",
              "                        <th id=\"T_afe3a_level0_row7\" class=\"row_heading level0 row7\" >isFlaggedFraud</th>\n",
              "                        <td id=\"T_afe3a_row7_col0\" class=\"data row7 col0\" >0.003277</td>\n",
              "                        <td id=\"T_afe3a_row7_col1\" class=\"data row7 col1\" >0.012295</td>\n",
              "                        <td id=\"T_afe3a_row7_col2\" class=\"data row7 col2\" >0.003835</td>\n",
              "                        <td id=\"T_afe3a_row7_col3\" class=\"data row7 col3\" >0.003776</td>\n",
              "                        <td id=\"T_afe3a_row7_col4\" class=\"data row7 col4\" >-0.000513</td>\n",
              "                        <td id=\"T_afe3a_row7_col5\" class=\"data row7 col5\" >-0.000529</td>\n",
              "                        <td id=\"T_afe3a_row7_col6\" class=\"data row7 col6\" >0.044109</td>\n",
              "                        <td id=\"T_afe3a_row7_col7\" class=\"data row7 col7\" >1.000000</td>\n",
              "            </tr>\n",
              "    </tbody></table>"
            ],
            "text/plain": [
              "<pandas.io.formats.style.Styler at 0x7f131115a550>"
            ]
          },
          "execution_count": 5,
          "metadata": {},
          "output_type": "execute_result"
        }
      ],
      "source": [
        "\n",
        "corr = ds_fraude.corr ()\n",
        "corr.style.background_gradient (cmap = 'coolwarm')"
      ]
    },
    {
      "cell_type": "markdown",
      "metadata": {
        "id": "uNu5yHCvnwvg"
      },
      "source": [
        "Ahora cruzamos las variables numéricas entre ellas y adiconalmente agregamos el Target para conocer la distribución y comenzar a generar hipótesis de variables que discriminan mejor a ambos grupos (Fraude)."
      ]
    },
    {
      "cell_type": "code",
      "execution_count": null,
      "metadata": {
        "id": "4EBSWMR0nwvh"
      },
      "outputs": [],
      "source": [
        "plt.figure(figsize=(10,5))\n",
        "sns.countplot(y='oldbalanceOrg', data=ds_fraude)\n",
        "plt.show()"
      ]
    },
    {
      "cell_type": "code",
      "execution_count": null,
      "metadata": {
        "id": "gB06Kgg3nwvi",
        "outputId": "9a3f53f1-1e40-443f-fc7c-8f9e62212666"
      },
      "outputs": [
        {
          "data": {
            "text/plain": [
              "isFraud  oldbalanceOrg\n",
              "0        0.00             2102408\n",
              "         184.00               918\n",
              "         133.00               914\n",
              "         195.00               912\n",
              "         109.00               908\n",
              "                           ...   \n",
              "1        47316255.05            1\n",
              "         49585040.37            1\n",
              "         50399045.08            1\n",
              "         57316255.05            1\n",
              "         59585040.37            1\n",
              "Name: oldbalanceOrg, Length: 1845961, dtype: int64"
            ]
          },
          "execution_count": 12,
          "metadata": {},
          "output_type": "execute_result"
        }
      ],
      "source": [
        "#Tirar countplot en el dataset entero con 6.000.000 de registros no es una buena idea\n",
        "#Si quieren hacer eso que dicen arriba, deberian hacer algo asi:\n",
        "ds_fraude_by_target=ds_fraude.groupby('isFraud')\n",
        "ds_fraude_by_target['oldbalanceOrg'].value_counts()"
      ]
    },
    {
      "cell_type": "code",
      "execution_count": null,
      "metadata": {
        "id": "6dW65b9Tnwvj",
        "outputId": "879ab214-741f-4f71-9e41-4559bc36ac9a"
      },
      "outputs": [
        {
          "data": {
            "text/html": [
              "<div>\n",
              "<style scoped>\n",
              "    .dataframe tbody tr th:only-of-type {\n",
              "        vertical-align: middle;\n",
              "    }\n",
              "\n",
              "    .dataframe tbody tr th {\n",
              "        vertical-align: top;\n",
              "    }\n",
              "\n",
              "    .dataframe thead th {\n",
              "        text-align: right;\n",
              "    }\n",
              "</style>\n",
              "<table border=\"1\" class=\"dataframe\">\n",
              "  <thead>\n",
              "    <tr style=\"text-align: right;\">\n",
              "      <th></th>\n",
              "      <th>oldbalanceOrg</th>\n",
              "      <th>newbalanceOrig</th>\n",
              "    </tr>\n",
              "    <tr>\n",
              "      <th>isFraud</th>\n",
              "      <th></th>\n",
              "      <th></th>\n",
              "    </tr>\n",
              "  </thead>\n",
              "  <tbody>\n",
              "    <tr>\n",
              "      <th>0</th>\n",
              "      <td>8.328287e+05</td>\n",
              "      <td>855970.228109</td>\n",
              "    </tr>\n",
              "    <tr>\n",
              "      <th>1</th>\n",
              "      <td>1.649668e+06</td>\n",
              "      <td>192392.631836</td>\n",
              "    </tr>\n",
              "  </tbody>\n",
              "</table>\n",
              "</div>"
            ],
            "text/plain": [
              "         oldbalanceOrg  newbalanceOrig\n",
              "isFraud                               \n",
              "0         8.328287e+05   855970.228109\n",
              "1         1.649668e+06   192392.631836"
            ]
          },
          "execution_count": 41,
          "metadata": {},
          "output_type": "execute_result"
        }
      ],
      "source": [
        "ds_fraude_by_target[['oldbalanceOrg','newbalanceOrig']].mean()"
      ]
    },
    {
      "cell_type": "code",
      "execution_count": null,
      "metadata": {
        "id": "Surj1JBMnwvj",
        "outputId": "b8df7970-150b-459a-be21-9f07ac42659a"
      },
      "outputs": [
        {
          "data": {
            "text/html": [
              "<div>\n",
              "<style scoped>\n",
              "    .dataframe tbody tr th:only-of-type {\n",
              "        vertical-align: middle;\n",
              "    }\n",
              "\n",
              "    .dataframe tbody tr th {\n",
              "        vertical-align: top;\n",
              "    }\n",
              "\n",
              "    .dataframe thead th {\n",
              "        text-align: right;\n",
              "    }\n",
              "</style>\n",
              "<table border=\"1\" class=\"dataframe\">\n",
              "  <thead>\n",
              "    <tr style=\"text-align: right;\">\n",
              "      <th></th>\n",
              "      <th>oldbalanceOrg</th>\n",
              "      <th>newbalanceOrig</th>\n",
              "    </tr>\n",
              "    <tr>\n",
              "      <th>isFraud</th>\n",
              "      <th></th>\n",
              "      <th></th>\n",
              "    </tr>\n",
              "  </thead>\n",
              "  <tbody>\n",
              "    <tr>\n",
              "      <th>0</th>\n",
              "      <td>14069.00</td>\n",
              "      <td>0.0</td>\n",
              "    </tr>\n",
              "    <tr>\n",
              "      <th>1</th>\n",
              "      <td>438983.45</td>\n",
              "      <td>0.0</td>\n",
              "    </tr>\n",
              "  </tbody>\n",
              "</table>\n",
              "</div>"
            ],
            "text/plain": [
              "         oldbalanceOrg  newbalanceOrig\n",
              "isFraud                               \n",
              "0             14069.00             0.0\n",
              "1            438983.45             0.0"
            ]
          },
          "execution_count": 42,
          "metadata": {},
          "output_type": "execute_result"
        }
      ],
      "source": [
        "ds_fraude_by_target[['oldbalanceOrg','newbalanceOrig']].median()\n"
      ]
    },
    {
      "cell_type": "markdown",
      "metadata": {
        "id": "Lf_lwKhznwvk"
      },
      "source": [
        "## Una vez que tienen hecho el dato ahí sí pueden pasar a graficarlos"
      ]
    },
    {
      "cell_type": "code",
      "execution_count": null,
      "metadata": {
        "id": "urLKTPoOnwvk",
        "outputId": "f93cd54c-5d3c-46bc-96c0-a498a2945fe4"
      },
      "outputs": [
        {
          "data": {
            "image/png": "[encoded data removed]",
            "text/plain": [
              "<Figure size 864x432 with 2 Axes>"
            ]
          },
          "metadata": {
            "needs_background": "light"
          },
          "output_type": "display_data"
        }
      ],
      "source": [
        "fig,axes= plt.subplots(figsize=(12,6), ncols=2)\n",
        "sns.boxplot(y=ds_fraude_by_target['oldbalanceOrg'].mean(), ax=axes[0])\n",
        "sns.boxplot(y=ds_fraude_by_target['newbalanceOrig'].mean(), ax=axes[1])\n",
        "axes[0].sharey(axes[1])"
      ]
    },
    {
      "cell_type": "code",
      "execution_count": null,
      "metadata": {
        "id": "6NvHzpxWnwvl"
      },
      "outputs": [],
      "source": [
        "#Completar\n",
        "plt.figure(figsize=(20,5))\n",
        "sns.histplot(data=ds_fraude, x= ds_fraude.oldbalanceOrg, kde=True)"
      ]
    },
    {
      "cell_type": "code",
      "execution_count": null,
      "metadata": {
        "id": "DDymeatMnwvl",
        "outputId": "b912df9c-8148-4768-9a33-110ee223b70d"
      },
      "outputs": [
        {
          "ename": "NameError",
          "evalue": "name 'df' is not defined",
          "output_type": "error",
          "traceback": [
            "\u001b[0;31m---------------------------------------------------------------------------\u001b[0m",
            "\u001b[0;31mNameError\u001b[0m                                 Traceback (most recent call last)",
            "\u001b[0;32m<ipython-input-11-5c935e3f15b6>\u001b[0m in \u001b[0;36m<module>\u001b[0;34m\u001b[0m\n\u001b[1;32m      1\u001b[0m \u001b[0;31m#Completar\u001b[0m\u001b[0;34m\u001b[0m\u001b[0;34m\u001b[0m\u001b[0;34m\u001b[0m\u001b[0m\n\u001b[1;32m      2\u001b[0m \u001b[0mplt\u001b[0m\u001b[0;34m.\u001b[0m\u001b[0mfigure\u001b[0m\u001b[0;34m(\u001b[0m\u001b[0mfigsize\u001b[0m\u001b[0;34m=\u001b[0m\u001b[0;34m(\u001b[0m\u001b[0;36m20\u001b[0m\u001b[0;34m,\u001b[0m\u001b[0;36m5\u001b[0m\u001b[0;34m)\u001b[0m\u001b[0;34m)\u001b[0m\u001b[0;34m\u001b[0m\u001b[0;34m\u001b[0m\u001b[0m\n\u001b[0;32m----> 3\u001b[0;31m \u001b[0msns\u001b[0m\u001b[0;34m.\u001b[0m\u001b[0mhistplot\u001b[0m\u001b[0;34m(\u001b[0m\u001b[0mdata\u001b[0m\u001b[0;34m=\u001b[0m\u001b[0mdf\u001b[0m\u001b[0;34m,\u001b[0m \u001b[0mx\u001b[0m\u001b[0;34m=\u001b[0m \u001b[0mdf\u001b[0m\u001b[0;34m.\u001b[0m\u001b[0mtotal_bill\u001b[0m\u001b[0;34m,\u001b[0m \u001b[0mkde\u001b[0m\u001b[0;34m=\u001b[0m\u001b[0;32mTrue\u001b[0m\u001b[0;34m,\u001b[0m \u001b[0mbins\u001b[0m\u001b[0;34m=\u001b[0m\u001b[0;36m20\u001b[0m\u001b[0;34m,\u001b[0m\u001b[0mlabel\u001b[0m\u001b[0;34m=\u001b[0m\u001b[0;34m'Total bill'\u001b[0m\u001b[0;34m,\u001b[0m \u001b[0mcolor\u001b[0m\u001b[0;34m=\u001b[0m\u001b[0;34m'green'\u001b[0m\u001b[0;34m,\u001b[0m \u001b[0malpha\u001b[0m\u001b[0;34m=\u001b[0m\u001b[0;36m0.3\u001b[0m\u001b[0;34m)\u001b[0m\u001b[0;34m\u001b[0m\u001b[0;34m\u001b[0m\u001b[0m\n\u001b[0m\u001b[1;32m      4\u001b[0m \u001b[0msns\u001b[0m\u001b[0;34m.\u001b[0m\u001b[0mhistplot\u001b[0m\u001b[0;34m(\u001b[0m\u001b[0mdata\u001b[0m\u001b[0;34m=\u001b[0m\u001b[0mdf\u001b[0m\u001b[0;34m,\u001b[0m \u001b[0mx\u001b[0m\u001b[0;34m=\u001b[0m \u001b[0mdf\u001b[0m\u001b[0;34m.\u001b[0m\u001b[0mtip\u001b[0m\u001b[0;34m,\u001b[0m \u001b[0mkde\u001b[0m\u001b[0;34m=\u001b[0m\u001b[0;32mTrue\u001b[0m\u001b[0;34m,\u001b[0m \u001b[0mlabel\u001b[0m\u001b[0;34m=\u001b[0m\u001b[0;34m'Tips'\u001b[0m\u001b[0;34m,\u001b[0m \u001b[0mcolor\u001b[0m\u001b[0;34m=\u001b[0m\u001b[0;34m'blue'\u001b[0m\u001b[0;34m,\u001b[0m \u001b[0malpha\u001b[0m\u001b[0;34m=\u001b[0m\u001b[0;36m0.3\u001b[0m\u001b[0;34m)\u001b[0m\u001b[0;34m\u001b[0m\u001b[0;34m\u001b[0m\u001b[0m\n\u001b[1;32m      5\u001b[0m \u001b[0mplt\u001b[0m\u001b[0;34m.\u001b[0m\u001b[0mlegend\u001b[0m\u001b[0;34m(\u001b[0m\u001b[0;34m)\u001b[0m\u001b[0;34m\u001b[0m\u001b[0;34m\u001b[0m\u001b[0m\n",
            "\u001b[0;31mNameError\u001b[0m: name 'df' is not defined"
          ]
        },
        {
          "data": {
            "text/plain": [
              "<Figure size 1440x360 with 0 Axes>"
            ]
          },
          "metadata": {},
          "output_type": "display_data"
        }
      ],
      "source": [
        "#Completar\n",
        "plt.figure(figsize=(20,5))\n",
        "sns.histplot(data=df, x= df.total_bill, kde=True, bins=20,label='Total bill', color='green', alpha=0.3)\n",
        "sns.histplot(data=df, x= df.tip, kde=True, label='Tips', color='blue', alpha=0.3)\n",
        "plt.legend()\n",
        "plt.xlabel('Valor')\n",
        "plt.ylabel('frecuencia')\n",
        "plt.title('Distribución de la cuenta total', fontsize=20)\n",
        "plt.show()"
      ]
    },
    {
      "cell_type": "markdown",
      "metadata": {
        "id": "DorBsXVInwvl"
      },
      "source": [
        "<img src=\"output.png\">"
      ]
    },
    {
      "cell_type": "markdown",
      "metadata": {
        "id": "e7ELxSLEnwvm"
      },
      "source": [
        ""
      ]
    }
  ],
  "metadata": {
    "kernelspec": {
      "display_name": "Python 3",
      "language": "python",
      "name": "python3"
    },
    "language_info": {
      "codemirror_mode": {
        "name": "ipython",
        "version": 3
      },
      "file_extension": ".py",
      "mimetype": "text/x-python",
      "name": "python",
      "nbconvert_exporter": "python",
      "pygments_lexer": "ipython3",
      "version": "3.8.8"
    },
    "vscode": {
      "interpreter": {
        "hash": "45d1f333cd13e447791062a9f81c6ae040c2bbef8ebbedff4b7b4992fc992c9c"
      }
    },
    "colab": {
      "name": "46884-(devolucion)-39130-25565-anã¡lisis-multivariado-del-proyecto--fraude_crediticio_multivariado.ipynb",
      "provenance": [],
      "include_colab_link": true
    }
  },
  "nbformat": 4,
  "nbformat_minor": 0
}